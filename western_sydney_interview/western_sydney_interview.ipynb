{
 "cells": [
  {
   "cell_type": "markdown",
   "metadata": {},
   "source": [
    "# Western Sydney Women's Oral History Project: From farms to freeways: Women's memories of Western Sydney"
   ]
  },
  {
   "cell_type": "markdown",
   "metadata": {},
   "source": [
    "For more information regarding the project and the dataset, please visit [Western Sydney University - Western Sydney Women's Oral History Project: From farms to freeways](https://omeka.westernsydney.edu.au/farmstofreeways/). This notebook is used for education and research purposes only. \n",
    "\n",
    "Notice that the original dataset includes 34 audio recordings, alone with their interview transcripts, participant photographs, and project material. \n",
    "\n",
    "You can choose to download the whole dataset, or the 34 interview transcripts only."
   ]
  },
  {
   "cell_type": "code",
   "execution_count": 14,
   "metadata": {},
   "outputs": [],
   "source": [
    "# Do not change the following code\n",
    "prefix = 'https://research-data.westernsydney.edu.au/default/rdmp/pubrecord/bc45b4d0519311ecb15399911543e199/pubattach/'\n",
    "pub_id = '31f45ab0519411ecb15399911543e199'\n",
    "\n",
    "audio_recording_metadata = {'id':'0cdb44dddabe4082af0afd08b51dd296', 'name':'ftf_audio_for_upload.csv'}\n",
    "transcripts_for_upload = {'id':'dc132d20e28a4aabb32583b13b17f8a7', 'name':'ftf_transcripts_for_upload.csv'}\n",
    "photographs_metadata = {'id':'bc45b4d0519311ecb15399911543e199', 'name':'ftf_images_for_upload.csv'}\n",
    "thank_you_notes_and_letters_metadata = {'id':'976fefa533754a2f9e035ed97965ba6d', 'name':'ftf_letters_for_upload.csv'}\n",
    "project_materials_metadata = {'id':'2464028287574f8c883bfc987c600df3', 'name':'ftf_projectMaterials_for_upload.csv'}\n",
    "relationships_between_interviewee_items = {'id':'ec80f70ec5974cc6abdf04db7a994a30', 'name':'ftf_item_relationships.rtf'}\n",
    "export_of_all_items = {'id':'db5949d5a36f4ab085bca6edf69118f5', 'name':'ftf_allItems_output.xml'}\n",
    "plain_text_format_transcripts = {'id':'6627738d4a73422786bfc350aac0ff1c', 'name':'ftf_transcripts_plaintext.zip'}\n",
    "pdf_foramt_transcripts = {'id':'6dff96b8f2444a8aaf15e479c7c74ce6', 'name':'ftf_transcripts_pdfa.zip'}\n",
    "jpeg_images = {'id':'63ee58806c2347fd862a7c6f3af181b1', 'name':'ftf_photographs.zip'}"
   ]
  },
  {
   "cell_type": "code",
   "execution_count": 27,
   "metadata": {},
   "outputs": [
    {
     "name": "stdout",
     "output_type": "stream",
     "text": [
      "File downloaded and saved as data/ftf_transcripts_plaintext.zip\n",
      "File is unzipped and saved as data/ftf_transcripts_plaintext\n"
     ]
    }
   ],
   "source": [
    "import requests\n",
    "import zipfile\n",
    "import os\n",
    "\n",
    "\n",
    "def download(save_path=None, file_name=plain_text_format_transcripts, unzip=True):\n",
    "    \"\"\"Download files and unzip if needed.\n",
    "\n",
    "    Args:\n",
    "        save_path (str, optional): The root path to save the file. If the save_path is None, \n",
    "            the file will be saved in the current directory. Defaults to None.\n",
    "        file_name (dict or list[dict], optional): The file(s) you want to download. Download only\n",
    "            plain_text_format_transcripts by default. Defaults to plain_text_format_transcripts.\n",
    "        unzip (bool, optional): Whether to unzip downloaded files. Defaults to True.\n",
    "    \"\"\"\n",
    "    if type(file_name) == dict:\n",
    "        file_name = [file_name]\n",
    "\n",
    "    for file in file_name:\n",
    "        url = prefix + file['id'] + '?pubId=' + pub_id\n",
    "        # Send a GET request to the URL\n",
    "        response = requests.get(url)\n",
    "        # Specify the local file path where you want to save the ZIP file\n",
    "        file_path = save_path + '/' + file['name'] if save_path else file['name']\n",
    "        # Write the content of the response to a file\n",
    "        if not os.path.exists(save_path):\n",
    "            os.mkdir(save_path)\n",
    "        with open(file_path, 'wb') as f:\n",
    "            f.write(response.content)\n",
    "        print(f\"File downloaded and saved as {file_path}\")\n",
    "        # Unzip files if needed\n",
    "        if file['name'].split('.')[-1] == 'zip' and unzip:\n",
    "            with zipfile.ZipFile(file_path, 'r') as f:\n",
    "                # Extract all the contents into the directory\n",
    "                f.extractall(file_path.split('.')[0])\n",
    "            print(f\"File is unzipped and saved as {file_path.split('.')[0]}\")\n",
    "        \n",
    "\n",
    "all = [audio_recording_metadata, transcripts_for_upload, photographs_metadata, \n",
    "       thank_you_notes_and_letters_metadata, project_materials_metadata,\n",
    "       relationships_between_interviewee_items, export_of_all_items,\n",
    "       plain_text_format_transcripts, pdf_foramt_transcripts, jpeg_images]\n",
    "\n",
    "\n",
    "\n",
    "# This will only download and unzip the interview transcripts inside your current directory\n",
    "download(save_path='data', file_name=plain_text_format_transcripts, unzip=True)\n",
    "\n",
    "# This will download all data inside your current directory\n",
    "# download(file_name=all, unzip=False)\n",
    "        "
   ]
  },
  {
   "cell_type": "code",
   "execution_count": null,
   "metadata": {},
   "outputs": [],
   "source": []
  }
 ],
 "metadata": {
  "kernelspec": {
   "display_name": "data_scraping",
   "language": "python",
   "name": "python3"
  },
  "language_info": {
   "codemirror_mode": {
    "name": "ipython",
    "version": 3
   },
   "file_extension": ".py",
   "mimetype": "text/x-python",
   "name": "python",
   "nbconvert_exporter": "python",
   "pygments_lexer": "ipython3",
   "version": "3.12.4"
  }
 },
 "nbformat": 4,
 "nbformat_minor": 2
}
